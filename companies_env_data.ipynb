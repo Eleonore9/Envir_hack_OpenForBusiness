{
 "metadata": {
  "name": "",
  "signature": "sha256:ff6700e473933bf2a9e4ac5e0349c7af24bb354ce5594b28ae61a9c7850bdc1b"
 },
 "nbformat": 3,
 "nbformat_minor": 0,
 "worksheets": [
  {
   "cells": [
    {
     "cell_type": "code",
     "collapsed": false,
     "input": [
      "import requests\n",
      "from requests.auth import HTTPBasicAuth\n",
      "import json\n",
      "import pandas as pd\n",
      "import numpy"
     ],
     "language": "python",
     "metadata": {},
     "outputs": [],
     "prompt_number": 2
    },
    {
     "cell_type": "code",
     "collapsed": false,
     "input": [
      "api_key = '76f715aa0bd101c29c550c11b598f819'\n",
      "api_secret = '4a1a1d477855bef04543c6d92a22bcef'\n",
      "r = requests.get('http://www.amee.com/api/companies?limit=50&city=London&min_employees=1000', auth=HTTPBasicAuth(api_key, api_secret))\n",
      "r.status_code"
     ],
     "language": "python",
     "metadata": {},
     "outputs": [
      {
       "metadata": {},
       "output_type": "pyout",
       "prompt_number": 3,
       "text": [
        "200"
       ]
      }
     ],
     "prompt_number": 3
    },
    {
     "cell_type": "code",
     "collapsed": false,
     "input": [
      "json_data = r.json()\n",
      "#print json_data['companies']"
     ],
     "language": "python",
     "metadata": {},
     "outputs": [],
     "prompt_number": 4
    },
    {
     "cell_type": "code",
     "collapsed": false,
     "input": [
      "d, companies, amee_scores, lat, lon = {}, [], [], [], []\n",
      "sustainability_report_url, line_of_business  = [], []\n",
      "emissions_total, employees_total, emissions_status = [], [], []"
     ],
     "language": "python",
     "metadata": {},
     "outputs": [],
     "prompt_number": 15
    },
    {
     "cell_type": "code",
     "collapsed": false,
     "input": [
      "for j in json_data['companies']:\n",
      "        if j.get('amee_industry_score'):\n",
      "            companies.append(j.get('name'))\n",
      "            amee_scores.append(j.get('amee_industry_score'))\n",
      "            lat.append(j.get('lat'))\n",
      "            lon.append(j.get('lon'))\n",
      "            emissions_total.append(j.get('emissions_total'))\n",
      "            line_of_business.append(j.get('line_of_business'))\n",
      "            employees_total.append(j.get('employees_total'))\n",
      "            emissions_status.append(j.get('emissions_status '))\n",
      "            sustainability_report_url.append(j.get('sustainability_report_url'))"
     ],
     "language": "python",
     "metadata": {},
     "outputs": [],
     "prompt_number": 16
    },
    {
     "cell_type": "code",
     "collapsed": false,
     "input": [
      "d['companies'], d['amee_scores'], d['lat'], d['lon'] = companies, amee_scores, lat, lon\n",
      "d['sustainability_report_url'], d['line_of_business'] = sustainability_report_url, line_of_business\n",
      "d['emissions_total'], d['employees_total'], d['emissions_status '] = emissions_total, employees_total, emissions_status \n",
      "print d"
     ],
     "language": "python",
     "metadata": {},
     "outputs": [
      {
       "output_type": "stream",
       "stream": "stdout",
       "text": [
        "{'emissions_status ': [None, None, None, None, None, None, None], 'employees_total': [2065, 7500, 1982, 1006, 1191, 1245, 2123], 'emissions_total': [None, None, None, None, None, None, None], 'companies': [u'JONES LANG LASALLE (S E) LIMITED', u'HARVEY NASH GROUP PLC', u'SURVIVOR GROUP HOLDINGS LIMITED', u'CROWN TOPCO LIMITED', u'BONDCARE MANAGEMENT SERVICES LIMITED', u'ASIA RESOURCE MINERALS PLC', u'C1 ACQUISITIONS LIMITED'], 'line_of_business': [u'Real estate agencies', u'Other personal service activities n.e.c.', u'Activities of other holding companies (not including agricultural, production, construction, distribution and financial services holding companies) n.e.c.', u'Activities of other holding companies (not including agricultural, production, construction, distribution and financial services holding companies) n.e.c.', u'Other business support service activities n.e.c.', u'Other business support service activities n.e.c.', u'Activities of head offices'], 'lon': [-0.14431535, -0.08090875, -0.13150154, -0.1071996, -0.22238547, -0.13952815, -0.12543155], 'sustainability_report_url': [u'http://www.joneslanglasalle.com/Pages/CSR-Downloads.aspx', None, None, None, None, None, None], 'lat': [51.51330939, 51.51623668, 51.50982367, 51.51689776, 51.58952398, 51.49674127, 51.5116512], 'amee_scores': [100, 86, 100, 100, 52, 100, 72]}\n"
       ]
      }
     ],
     "prompt_number": 17
    },
    {
     "cell_type": "code",
     "collapsed": false,
     "input": [
      "df = pd.DataFrame.from_dict(data=d, orient='columns')"
     ],
     "language": "python",
     "metadata": {},
     "outputs": [],
     "prompt_number": 18
    },
    {
     "cell_type": "code",
     "collapsed": false,
     "input": [
      "df"
     ],
     "language": "python",
     "metadata": {},
     "outputs": [
      {
       "html": [
        "<div style=\"max-height:1000px;max-width:1500px;overflow:auto;\">\n",
        "<table border=\"1\" class=\"dataframe\">\n",
        "  <thead>\n",
        "    <tr style=\"text-align: right;\">\n",
        "      <th></th>\n",
        "      <th>amee_scores</th>\n",
        "      <th>companies</th>\n",
        "      <th>emissions_status </th>\n",
        "      <th>emissions_total</th>\n",
        "      <th>employees_total</th>\n",
        "      <th>lat</th>\n",
        "      <th>line_of_business</th>\n",
        "      <th>lon</th>\n",
        "      <th>sustainability_report_url</th>\n",
        "    </tr>\n",
        "  </thead>\n",
        "  <tbody>\n",
        "    <tr>\n",
        "      <th>0</th>\n",
        "      <td> 100</td>\n",
        "      <td>     JONES LANG LASALLE (S E) LIMITED</td>\n",
        "      <td> None</td>\n",
        "      <td> None</td>\n",
        "      <td> 2065</td>\n",
        "      <td> 51.513309</td>\n",
        "      <td>                              Real estate agencies</td>\n",
        "      <td>-0.144315</td>\n",
        "      <td> http://www.joneslanglasalle.com/Pages/CSR-Down...</td>\n",
        "    </tr>\n",
        "    <tr>\n",
        "      <th>1</th>\n",
        "      <td>  86</td>\n",
        "      <td>                HARVEY NASH GROUP PLC</td>\n",
        "      <td> None</td>\n",
        "      <td> None</td>\n",
        "      <td> 7500</td>\n",
        "      <td> 51.516237</td>\n",
        "      <td>          Other personal service activities n.e.c.</td>\n",
        "      <td>-0.080909</td>\n",
        "      <td>                                              None</td>\n",
        "    </tr>\n",
        "    <tr>\n",
        "      <th>2</th>\n",
        "      <td> 100</td>\n",
        "      <td>      SURVIVOR GROUP HOLDINGS LIMITED</td>\n",
        "      <td> None</td>\n",
        "      <td> None</td>\n",
        "      <td> 1982</td>\n",
        "      <td> 51.509824</td>\n",
        "      <td> Activities of other holding companies (not inc...</td>\n",
        "      <td>-0.131502</td>\n",
        "      <td>                                              None</td>\n",
        "    </tr>\n",
        "    <tr>\n",
        "      <th>3</th>\n",
        "      <td> 100</td>\n",
        "      <td>                  CROWN TOPCO LIMITED</td>\n",
        "      <td> None</td>\n",
        "      <td> None</td>\n",
        "      <td> 1006</td>\n",
        "      <td> 51.516898</td>\n",
        "      <td> Activities of other holding companies (not inc...</td>\n",
        "      <td>-0.107200</td>\n",
        "      <td>                                              None</td>\n",
        "    </tr>\n",
        "    <tr>\n",
        "      <th>4</th>\n",
        "      <td>  52</td>\n",
        "      <td> BONDCARE MANAGEMENT SERVICES LIMITED</td>\n",
        "      <td> None</td>\n",
        "      <td> None</td>\n",
        "      <td> 1191</td>\n",
        "      <td> 51.589524</td>\n",
        "      <td>  Other business support service activities n.e.c.</td>\n",
        "      <td>-0.222385</td>\n",
        "      <td>                                              None</td>\n",
        "    </tr>\n",
        "    <tr>\n",
        "      <th>5</th>\n",
        "      <td> 100</td>\n",
        "      <td>           ASIA RESOURCE MINERALS PLC</td>\n",
        "      <td> None</td>\n",
        "      <td> None</td>\n",
        "      <td> 1245</td>\n",
        "      <td> 51.496741</td>\n",
        "      <td>  Other business support service activities n.e.c.</td>\n",
        "      <td>-0.139528</td>\n",
        "      <td>                                              None</td>\n",
        "    </tr>\n",
        "    <tr>\n",
        "      <th>6</th>\n",
        "      <td>  72</td>\n",
        "      <td>              C1 ACQUISITIONS LIMITED</td>\n",
        "      <td> None</td>\n",
        "      <td> None</td>\n",
        "      <td> 2123</td>\n",
        "      <td> 51.511651</td>\n",
        "      <td>                        Activities of head offices</td>\n",
        "      <td>-0.125432</td>\n",
        "      <td>                                              None</td>\n",
        "    </tr>\n",
        "  </tbody>\n",
        "</table>\n",
        "</div>"
       ],
       "metadata": {},
       "output_type": "pyout",
       "prompt_number": 19,
       "text": [
        "   amee_scores                             companies emissions_status   \\\n",
        "0          100      JONES LANG LASALLE (S E) LIMITED              None   \n",
        "1           86                 HARVEY NASH GROUP PLC              None   \n",
        "2          100       SURVIVOR GROUP HOLDINGS LIMITED              None   \n",
        "3          100                   CROWN TOPCO LIMITED              None   \n",
        "4           52  BONDCARE MANAGEMENT SERVICES LIMITED              None   \n",
        "5          100            ASIA RESOURCE MINERALS PLC              None   \n",
        "6           72               C1 ACQUISITIONS LIMITED              None   \n",
        "\n",
        "  emissions_total  employees_total        lat  \\\n",
        "0            None             2065  51.513309   \n",
        "1            None             7500  51.516237   \n",
        "2            None             1982  51.509824   \n",
        "3            None             1006  51.516898   \n",
        "4            None             1191  51.589524   \n",
        "5            None             1245  51.496741   \n",
        "6            None             2123  51.511651   \n",
        "\n",
        "                                    line_of_business       lon  \\\n",
        "0                               Real estate agencies -0.144315   \n",
        "1           Other personal service activities n.e.c. -0.080909   \n",
        "2  Activities of other holding companies (not inc... -0.131502   \n",
        "3  Activities of other holding companies (not inc... -0.107200   \n",
        "4   Other business support service activities n.e.c. -0.222385   \n",
        "5   Other business support service activities n.e.c. -0.139528   \n",
        "6                         Activities of head offices -0.125432   \n",
        "\n",
        "                           sustainability_report_url  \n",
        "0  http://www.joneslanglasalle.com/Pages/CSR-Down...  \n",
        "1                                               None  \n",
        "2                                               None  \n",
        "3                                               None  \n",
        "4                                               None  \n",
        "5                                               None  \n",
        "6                                               None  "
       ]
      }
     ],
     "prompt_number": 19
    },
    {
     "cell_type": "code",
     "collapsed": false,
     "input": [
      "df.to_csv('test.csv')"
     ],
     "language": "python",
     "metadata": {},
     "outputs": [],
     "prompt_number": 82
    },
    {
     "cell_type": "code",
     "collapsed": false,
     "input": [],
     "language": "python",
     "metadata": {},
     "outputs": []
    }
   ],
   "metadata": {}
  }
 ]
}