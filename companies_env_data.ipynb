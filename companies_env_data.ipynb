{
 "metadata": {
  "name": "",
  "signature": "sha256:9f28fa8ec2902b9a60d770caf39ac3a5c6f802d2355f0daf77d1ca7a8579aad5"
 },
 "nbformat": 3,
 "nbformat_minor": 0,
 "worksheets": [
  {
   "cells": [
    {
     "cell_type": "code",
     "collapsed": false,
     "input": [
      "import requests\n",
      "from requests.auth import HTTPBasicAuth\n",
      "import json\n",
      "import pandas as pd\n",
      "import numpy"
     ],
     "language": "python",
     "metadata": {},
     "outputs": [],
     "prompt_number": 25
    },
    {
     "cell_type": "code",
     "collapsed": false,
     "input": [
      "api_key = '76f715aa0bd101c29c550c11b598f819'\n",
      "api_secret = '4a1a1d477855bef04543c6d92a22bcef'\n",
      "r = requests.get('http://www.amee.com/api/companies?limit=50&city=London&min_employees=1000', auth=HTTPBasicAuth(api_key, api_secret))\n",
      "r.status_code"
     ],
     "language": "python",
     "metadata": {},
     "outputs": [
      {
       "metadata": {},
       "output_type": "pyout",
       "prompt_number": 26,
       "text": [
        "200"
       ]
      }
     ],
     "prompt_number": 26
    },
    {
     "cell_type": "code",
     "collapsed": false,
     "input": [
      "json_data = r.json()\n",
      "#print json_data['companies']"
     ],
     "language": "python",
     "metadata": {},
     "outputs": [],
     "prompt_number": 50
    },
    {
     "cell_type": "code",
     "collapsed": false,
     "input": [
      "d, companies, amee_scores, lat, lon = {}, [], [], [], []\n",
      "coordinates, geometry = [], []"
     ],
     "language": "python",
     "metadata": {},
     "outputs": [],
     "prompt_number": 76
    },
    {
     "cell_type": "code",
     "collapsed": false,
     "input": [
      "## Example of GeoJson:\n",
      "#\"geometry\": {\n",
      "        #\"type\": \"Point\",\n",
      "        #\"coordinates\": [102.0, 0.6]\n",
      "      #}"
     ],
     "language": "python",
     "metadata": {},
     "outputs": [],
     "prompt_number": 71
    },
    {
     "cell_type": "code",
     "collapsed": false,
     "input": [
      "for j in json_data['companies']:\n",
      "    if j.get('amee_industry_score'):\n",
      "        companies.append(j.get('name'))\n",
      "        amee_scores.append(j.get('amee_industry_score'))\n",
      "        lat.append(j.get('lat'))\n",
      "        lon.append(j.get('lon'))"
     ],
     "language": "python",
     "metadata": {},
     "outputs": [],
     "prompt_number": 77
    },
    {
     "cell_type": "code",
     "collapsed": false,
     "input": [
      "d['companies'], d['amee_scores'], d['lat'], d['lon'] = companies, amee_scores, lat, lon"
     ],
     "language": "python",
     "metadata": {},
     "outputs": [],
     "prompt_number": 78
    },
    {
     "cell_type": "code",
     "collapsed": false,
     "input": [
      "df = pd.DataFrame.from_dict(data=d, orient='columns')"
     ],
     "language": "python",
     "metadata": {},
     "outputs": [],
     "prompt_number": 80
    },
    {
     "cell_type": "code",
     "collapsed": false,
     "input": [
      "df"
     ],
     "language": "python",
     "metadata": {},
     "outputs": [
      {
       "html": [
        "<div style=\"max-height:1000px;max-width:1500px;overflow:auto;\">\n",
        "<table border=\"1\" class=\"dataframe\">\n",
        "  <thead>\n",
        "    <tr style=\"text-align: right;\">\n",
        "      <th></th>\n",
        "      <th>amee_scores</th>\n",
        "      <th>companies</th>\n",
        "      <th>lat</th>\n",
        "      <th>lon</th>\n",
        "    </tr>\n",
        "  </thead>\n",
        "  <tbody>\n",
        "    <tr>\n",
        "      <th>0</th>\n",
        "      <td> 100</td>\n",
        "      <td>     JONES LANG LASALLE (S E) LIMITED</td>\n",
        "      <td> 51.513309</td>\n",
        "      <td>-0.144315</td>\n",
        "    </tr>\n",
        "    <tr>\n",
        "      <th>1</th>\n",
        "      <td>  86</td>\n",
        "      <td>                HARVEY NASH GROUP PLC</td>\n",
        "      <td> 51.516237</td>\n",
        "      <td>-0.080909</td>\n",
        "    </tr>\n",
        "    <tr>\n",
        "      <th>2</th>\n",
        "      <td> 100</td>\n",
        "      <td>      SURVIVOR GROUP HOLDINGS LIMITED</td>\n",
        "      <td> 51.509824</td>\n",
        "      <td>-0.131502</td>\n",
        "    </tr>\n",
        "    <tr>\n",
        "      <th>3</th>\n",
        "      <td> 100</td>\n",
        "      <td>                  CROWN TOPCO LIMITED</td>\n",
        "      <td> 51.516898</td>\n",
        "      <td>-0.107200</td>\n",
        "    </tr>\n",
        "    <tr>\n",
        "      <th>4</th>\n",
        "      <td>  52</td>\n",
        "      <td> BONDCARE MANAGEMENT SERVICES LIMITED</td>\n",
        "      <td> 51.589524</td>\n",
        "      <td>-0.222385</td>\n",
        "    </tr>\n",
        "    <tr>\n",
        "      <th>5</th>\n",
        "      <td> 100</td>\n",
        "      <td>           ASIA RESOURCE MINERALS PLC</td>\n",
        "      <td> 51.496741</td>\n",
        "      <td>-0.139528</td>\n",
        "    </tr>\n",
        "    <tr>\n",
        "      <th>6</th>\n",
        "      <td>  72</td>\n",
        "      <td>              C1 ACQUISITIONS LIMITED</td>\n",
        "      <td> 51.511651</td>\n",
        "      <td>-0.125432</td>\n",
        "    </tr>\n",
        "  </tbody>\n",
        "</table>\n",
        "</div>"
       ],
       "metadata": {},
       "output_type": "pyout",
       "prompt_number": 81,
       "text": [
        "   amee_scores                             companies        lat       lon\n",
        "0          100      JONES LANG LASALLE (S E) LIMITED  51.513309 -0.144315\n",
        "1           86                 HARVEY NASH GROUP PLC  51.516237 -0.080909\n",
        "2          100       SURVIVOR GROUP HOLDINGS LIMITED  51.509824 -0.131502\n",
        "3          100                   CROWN TOPCO LIMITED  51.516898 -0.107200\n",
        "4           52  BONDCARE MANAGEMENT SERVICES LIMITED  51.589524 -0.222385\n",
        "5          100            ASIA RESOURCE MINERALS PLC  51.496741 -0.139528\n",
        "6           72               C1 ACQUISITIONS LIMITED  51.511651 -0.125432"
       ]
      }
     ],
     "prompt_number": 81
    },
    {
     "cell_type": "code",
     "collapsed": false,
     "input": [
      "df.to_csv('test.csv')"
     ],
     "language": "python",
     "metadata": {},
     "outputs": [],
     "prompt_number": 82
    },
    {
     "cell_type": "code",
     "collapsed": false,
     "input": [],
     "language": "python",
     "metadata": {},
     "outputs": []
    }
   ],
   "metadata": {}
  }
 ]
}