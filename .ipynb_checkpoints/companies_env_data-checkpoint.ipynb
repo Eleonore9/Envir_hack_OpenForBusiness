{
 "metadata": {
  "name": "",
  "signature": "sha256:5f46c4b41782293ed1ed0c0ad96921933451a677c27ccf68da9e87a47c9689ce"
 },
 "nbformat": 3,
 "nbformat_minor": 0,
 "worksheets": [
  {
   "cells": [
    {
     "cell_type": "code",
     "collapsed": false,
     "input": [
      "import requests\n",
      "from requests.auth import HTTPBasicAuth\n",
      "import json\n",
      "import pandas"
     ],
     "language": "python",
     "metadata": {},
     "outputs": [],
     "prompt_number": 6
    },
    {
     "cell_type": "code",
     "collapsed": false,
     "input": [
      "api_key = '76f715aa0bd101c29c550c11b598f819'\n",
      "api_secret = '4a1a1d477855bef04543c6d92a22bcef'\n",
      "r = requests.get('http://www.amee.com/api/companies?limit=50&city=London&min_employees=1000', auth=HTTPBasicAuth(api_key, api_secret))\n",
      "r.status_code"
     ],
     "language": "python",
     "metadata": {},
     "outputs": [
      {
       "metadata": {},
       "output_type": "pyout",
       "prompt_number": 20,
       "text": [
        "200"
       ]
      }
     ],
     "prompt_number": 20
    },
    {
     "cell_type": "code",
     "collapsed": false,
     "input": [
      "json_data = r.json()\n",
      "#print json_data['companies']"
     ],
     "language": "python",
     "metadata": {},
     "outputs": [],
     "prompt_number": 36
    },
    {
     "cell_type": "code",
     "collapsed": false,
     "input": [
      "d, companies, amee_scores, coordinates = {}, [], [], []"
     ],
     "language": "python",
     "metadata": {},
     "outputs": [],
     "prompt_number": 38
    },
    {
     "cell_type": "code",
     "collapsed": false,
     "input": [
      "for j in json_data['companies']:\n",
      "    companies.append(j.get('name'))\n",
      "    amee_scores.append(j.get('amee_industry_score'))\n",
      "    coordinates.append([j.get('lon'), j.get('lat')])"
     ],
     "language": "python",
     "metadata": {},
     "outputs": [],
     "prompt_number": 39
    },
    {
     "cell_type": "code",
     "collapsed": false,
     "input": [
      "d['companies'], d['amee_scores'], d['coordinates'] = companies, amee_scores, coordinates"
     ],
     "language": "python",
     "metadata": {},
     "outputs": [],
     "prompt_number": 40
    },
    {
     "cell_type": "code",
     "collapsed": false,
     "input": [
      "df = DataFrame(data=d, index=index)"
     ],
     "language": "python",
     "metadata": {},
     "outputs": [],
     "prompt_number": 41
    },
    {
     "cell_type": "code",
     "collapsed": false,
     "input": [],
     "language": "python",
     "metadata": {},
     "outputs": []
    }
   ],
   "metadata": {}
  }
 ]
}